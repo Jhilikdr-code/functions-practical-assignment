{
 "cells": [
  {
   "cell_type": "markdown",
   "id": "34a5b82f-c77e-4647-93bc-e7661b9e401f",
   "metadata": {},
   "source": [
    "#Practical Questions"
   ]
  },
  {
   "cell_type": "markdown",
   "id": "a865e49a-1393-46ff-bef5-d813602d4cb8",
   "metadata": {},
   "source": [
    "##1 . Write a Python function that takes a list of numbers as input and returns the sum of all even numbers in\r\n",
    "the list."
   ]
  },
  {
   "cell_type": "code",
   "execution_count": 1,
   "id": "97465069-1393-4ea4-a029-48a361fe9c74",
   "metadata": {},
   "outputs": [
    {
     "name": "stdout",
     "output_type": "stream",
     "text": [
      "12\n"
     ]
    }
   ],
   "source": [
    "def sum_of_even_numbers(numbers):\n",
    "    # Filter out even numbers and sum them\n",
    "    even_sum = sum(filter(lambda x: x % 2 == 0, numbers))\n",
    "    return even_sum\n",
    "\n",
    "# Example usage\n",
    "numbers_list = [1, 2, 3, 4, 5, 6]\n",
    "result = sum_of_even_numbers(numbers_list)\n",
    "print(result) "
   ]
  },
  {
   "cell_type": "markdown",
   "id": "64644d8e-c86e-403f-b5e8-0d682352da6f",
   "metadata": {},
   "source": [
    "##2  Create a Python function that accepts a string and returns the reverse of that string."
   ]
  },
  {
   "cell_type": "code",
   "execution_count": 2,
   "id": "e727cfce-efae-4f7b-b84c-4a1b6f97fe6e",
   "metadata": {},
   "outputs": [
    {
     "name": "stdout",
     "output_type": "stream",
     "text": [
      "!dlroW ,olleH\n"
     ]
    }
   ],
   "source": [
    "def reverse_string(s):\n",
    "    return s[::-1]\n",
    "\n",
    "# Example usage\n",
    "input_string = \"Hello, World!\"\n",
    "reversed_string = reverse_string(input_string)\n",
    "print(reversed_string)  "
   ]
  },
  {
   "cell_type": "markdown",
   "id": "bc043cbe-247e-4b52-ba3c-c027adc70060",
   "metadata": {},
   "source": [
    "##3 Implement a Python function that takes a list of integers and returns a new list containing the squares of\r\n",
    "each number."
   ]
  },
  {
   "cell_type": "code",
   "execution_count": 3,
   "id": "d5fac133-302a-40cb-abda-710a792e9de5",
   "metadata": {},
   "outputs": [
    {
     "name": "stdout",
     "output_type": "stream",
     "text": [
      "[1, 4, 9, 16, 25]\n"
     ]
    }
   ],
   "source": [
    "#using map\n",
    "def square_numbers(numbers):\n",
    "    return list(map(lambda x: x ** 2, numbers))\n",
    "\n",
    "# Example usage\n",
    "input_list = [1, 2, 3, 4, 5]\n",
    "squared_list = square_numbers(input_list)\n",
    "print(squared_list)  "
   ]
  },
  {
   "cell_type": "code",
   "execution_count": 4,
   "id": "956ba83d-05c0-405f-a67c-ecac15440f35",
   "metadata": {},
   "outputs": [
    {
     "name": "stdout",
     "output_type": "stream",
     "text": [
      "[1, 4, 9, 16, 25]\n"
     ]
    }
   ],
   "source": [
    "#using list comprehension\n",
    "def square_numbers(numbers):\n",
    "    return [x ** 2 for x in numbers]\n",
    "\n",
    "# Example usage\n",
    "input_list = [1, 2, 3, 4, 5]\n",
    "squared_list = square_numbers(input_list)\n",
    "print(squared_list)  "
   ]
  },
  {
   "cell_type": "markdown",
   "id": "081358ea-7ed3-4169-bf46-466e0deea8db",
   "metadata": {},
   "source": [
    "##4  Write a Python function that checks if a given number is prime or not from 1 to 200."
   ]
  },
  {
   "cell_type": "code",
   "execution_count": 5,
   "id": "dcc8a049-1fea-4573-9f94-c4d5e9868bc5",
   "metadata": {},
   "outputs": [
    {
     "name": "stdout",
     "output_type": "stream",
     "text": [
      "[2, 3, 5, 7, 11, 13, 17, 19, 23, 29, 31, 37, 41, 43, 47, 53, 59, 61, 67, 71, 73, 79, 83, 89, 97, 101, 103, 107, 109, 113, 127, 131, 137, 139, 149, 151, 157, 163, 167, 173, 179, 181, 191, 193, 197, 199]\n"
     ]
    }
   ],
   "source": [
    "def is_prime(n):\n",
    "    if n <= 1:\n",
    "        return False\n",
    "    for i in range(2, int(n**0.5) + 1):\n",
    "        if n % i == 0:\n",
    "            return False\n",
    "    return True\n",
    "\n",
    "# Check numbers from 1 to 200\n",
    "def check_primes_in_range():\n",
    "    primes = []\n",
    "    for number in range(1, 201):\n",
    "        if is_prime(number):\n",
    "            primes.append(number)\n",
    "    return primes\n",
    "\n",
    "# Example usage\n",
    "prime_numbers = check_primes_in_range()\n",
    "print(prime_numbers)\n"
   ]
  },
  {
   "cell_type": "markdown",
   "id": "42975c8c-15cd-4235-af62-682f4bd1057e",
   "metadata": {},
   "source": [
    "##5  Create an iterator class in Python that generates the Fibonacci sequence up to a specified number of\r\n",
    "terms."
   ]
  },
  {
   "cell_type": "code",
   "execution_count": 6,
   "id": "4f0cad21-4eff-4bb4-a1e7-d594e20c2849",
   "metadata": {},
   "outputs": [
    {
     "name": "stdout",
     "output_type": "stream",
     "text": [
      "[0, 1, 1, 2, 3, 5, 8, 13, 21, 34]\n"
     ]
    }
   ],
   "source": [
    "class FibonacciIterator:\n",
    "    def __init__(self, n):\n",
    "        self.n = n        # Number of terms to generate\n",
    "        self.a = 0        # First term\n",
    "        self.b = 1        # Second term\n",
    "        self.count = 0    # Counter for the number of terms generated\n",
    "\n",
    "    def __iter__(self):\n",
    "        return self\n",
    "\n",
    "    def __next__(self):\n",
    "        if self.count < self.n:\n",
    "            fib = self.a\n",
    "            self.a, self.b = self.b, self.a + self.b  # Update to the next Fibonacci numbers\n",
    "            self.count += 1\n",
    "            return fib\n",
    "        else:\n",
    "            raise StopIteration  # Stop iteration when n terms are reached\n",
    "\n",
    "# Example usage\n",
    "def fibonacci_sequence(n):\n",
    "    fib_iterator = FibonacciIterator(n)\n",
    "    return list(fib_iterator)\n",
    "\n",
    "# Get the first 10 terms of the Fibonacci sequence\n",
    "fibonacci_numbers = fibonacci_sequence(10)\n",
    "print(fibonacci_numbers)  "
   ]
  },
  {
   "cell_type": "markdown",
   "id": "a61b45c6-a059-4d01-9f01-770b7cf5f289",
   "metadata": {},
   "source": [
    "##6  Write a generator function in Python that yields the powers of 2 up to a given exponent."
   ]
  },
  {
   "cell_type": "code",
   "execution_count": 7,
   "id": "ef35d1f8-4105-47fd-8a8c-901b74d5f744",
   "metadata": {},
   "outputs": [
    {
     "name": "stdout",
     "output_type": "stream",
     "text": [
      "1\n",
      "2\n",
      "4\n",
      "8\n",
      "16\n",
      "32\n"
     ]
    }
   ],
   "source": [
    "def powers_of_two(exponent):\n",
    "    for i in range(exponent + 1):\n",
    "        yield 2 ** i\n",
    "\n",
    "# Example usage\n",
    "exponent = 5\n",
    "for power in powers_of_two(exponent):\n",
    "    print(power)\n"
   ]
  },
  {
   "cell_type": "markdown",
   "id": "90ed1a5e-8615-4a0c-8197-d561e15277e8",
   "metadata": {},
   "source": [
    "##7 . Implement a generator function that reads a file line by line and yields each line as a string"
   ]
  },
  {
   "cell_type": "code",
   "execution_count": 19,
   "id": "de952875-c78b-4485-b2cd-080cdd7c1003",
   "metadata": {},
   "outputs": [
    {
     "name": "stdout",
     "output_type": "stream",
     "text": [
      "Data Analytics: What It Is, How It's Used, and 4 Basic TechniquesData analysis is the process of using statistical and logical techniques to extract insights from data to make better decisions. It involves inspecting, cleaning, and modeling data to help businesses understand their operations and make informed decisions.\n",
      "The data analysis process typically involves the following steps:\n",
      "Identify the business question\n",
      "Collect raw data sets\n",
      "Clean the data\n",
      "Analyze the data\n",
      "Interpret the results\n",
      "Data analysis can help businesses in many ways, including:\n",
      "Personalization: Banks can use data analysis to personalize customer interactions\n",
      "Predicting the future: Health care systems can use data analysis to predict future health needs\n",
      "Creating content: Entertainment companies can use data analysis to create the next big streaming hit\n",
      "Improving budget accuracy: Businesses can use data analysis to identify areas that are performing well and areas that need improvement\n"
     ]
    }
   ],
   "source": [
    "def read_file_line_by_line(file_path):\n",
    "    with open(file_path, 'r') as file:\n",
    "        for line in file:\n",
    "            yield line.strip()  # Strip newline characters\n",
    "\n",
    "# Example usage\n",
    "file_path = r'C:\\Users\\Jhilik D Rozario\\Documents\\Data Analytics.txt'  # Replace with your file path\n",
    "for line in read_file_line_by_line(file_path):\n",
    "    print(line)\n"
   ]
  },
  {
   "cell_type": "markdown",
   "id": "c7e13063-d42d-4b45-a692-ff3443aab72b",
   "metadata": {},
   "source": [
    "##8 Use a lambda function in Python to sort a list of tuples based on the second element of each tuple."
   ]
  },
  {
   "cell_type": "code",
   "execution_count": 9,
   "id": "01585edb-b2c7-424d-a7d7-f6a859c85f1a",
   "metadata": {},
   "outputs": [
    {
     "name": "stdout",
     "output_type": "stream",
     "text": [
      "[(1, 'apple'), (3, 'banana'), (4, 'grape'), (2, 'orange')]\n"
     ]
    }
   ],
   "source": [
    "# Sample list of tuples\n",
    "tuples_list = [(1, 'apple'), (3, 'banana'), (2, 'orange'), (4, 'grape')]\n",
    "\n",
    "# Sort the list of tuples based on the second element\n",
    "sorted_tuples = sorted(tuples_list, key=lambda x: x[1])\n",
    "\n",
    "# Example usage\n",
    "print(sorted_tuples)\n"
   ]
  },
  {
   "cell_type": "markdown",
   "id": "9f5d77c8-f0f9-4524-93f1-814ef06d4742",
   "metadata": {},
   "source": [
    "##9 . Write a Python program that uses `map()` to convert a list of temperatures from Celsius to Fahrenheit."
   ]
  },
  {
   "cell_type": "code",
   "execution_count": 10,
   "id": "a164737b-d21c-49b2-a45d-ea8d5fdb2380",
   "metadata": {},
   "outputs": [
    {
     "name": "stdout",
     "output_type": "stream",
     "text": [
      "[32.0, 68.0, 98.6, 212.0]\n"
     ]
    }
   ],
   "source": [
    "# Function to convert Celsius to Fahrenheit\n",
    "def celsius_to_fahrenheit(celsius):\n",
    "    return (celsius * 9/5) + 32\n",
    "\n",
    "# List of temperatures in Celsius\n",
    "celsius_temperatures = [0, 20, 37, 100]\n",
    "\n",
    "# Use map() to convert the list of Celsius temperatures to Fahrenheit\n",
    "fahrenheit_temperatures = list(map(celsius_to_fahrenheit, celsius_temperatures))\n",
    "\n",
    "# Example usage\n",
    "print(fahrenheit_temperatures)\n"
   ]
  },
  {
   "cell_type": "markdown",
   "id": "be2ee763-0027-4b8d-9770-70b154239601",
   "metadata": {},
   "source": [
    "##10  Create a Python program that uses `filter()` to remove all the vowels from a given string"
   ]
  },
  {
   "cell_type": "code",
   "execution_count": 11,
   "id": "02d8b733-b50a-4ddf-bbdd-8216cf3eeacf",
   "metadata": {},
   "outputs": [
    {
     "name": "stdout",
     "output_type": "stream",
     "text": [
      "Hll, Wrld!\n"
     ]
    }
   ],
   "source": [
    "def remove_vowels(input_string):\n",
    "    vowels = 'aeiouAEIOU'  # Define the vowels to remove\n",
    "    # Use filter() to remove vowels and join the remaining characters\n",
    "    filtered_string = ''.join(filter(lambda char: char not in vowels, input_string))\n",
    "    return filtered_string\n",
    "\n",
    "# Example usage\n",
    "input_string = \"Hello, World!\"\n",
    "result = remove_vowels(input_string)\n",
    "print(result) "
   ]
  },
  {
   "cell_type": "markdown",
   "id": "cbcebfec-d3d6-4585-bcea-d2177a2278a0",
   "metadata": {},
   "source": [
    "##11  Imagine an accounting routine used in a book shop. It works on a list with sublists, which look like this:\r",
    "\r\n",
    "\r\n",
    "\r\n",
    "\r\n",
    "Write a Python program, which returns a list with 2-tuples. Each tuple consists of the order number and the\r\n",
    "product of the price per item and the quantity. The product should be increased by 10,- € if the value of the\r\n",
    "order is smaller than 100,00 €.\r\n",
    "\r\n",
    "Write a Python program using lambda and map."
   ]
  },
  {
   "cell_type": "code",
   "execution_count": 12,
   "id": "017f3ee5-a36e-4fcd-89f2-c9a0bfd2082e",
   "metadata": {},
   "outputs": [
    {
     "name": "stdout",
     "output_type": "stream",
     "text": [
      "Order Number   Book and Author                                   Quantity  Total Price (€)\n",
      "------------------------------------------------------------------------------------------\n",
      "1              The Great Gatsby by F. Scott Fitzgerald           5         60.00          \n",
      "2              1984 by George Orwell                             3         55.00          \n",
      "3              To Kill a Mockingbird by Harper Lee               2         70.00          \n",
      "4              Pride and Prejudice by Jane Austen                4         100.00         \n"
     ]
    }
   ],
   "source": [
    "orders = [\n",
    "    [1, \"The Great Gatsby\", \"F. Scott Fitzgerald\", 5, 10.0],\n",
    "    [2, \"1984\", \"George Orwell\", 3, 15.0],\n",
    "    [3, \"To Kill a Mockingbird\", \"Harper Lee\", 2, 30.0],\n",
    "    [4, \"Pride and Prejudice\", \"Jane Austen\", 4, 25.0],\n",
    "]\n",
    "\n",
    "# Using map and lambda to calculate the order totals\n",
    "result = list(map(lambda order: (\n",
    "    order[0],  # Order number\n",
    "    f\"{order[1]} by {order[2]}\",  # Combined Book title and Author\n",
    "    order[3],  # Quantity\n",
    "    order[4] * order[3] + (10.0 if order[4] * order[3] < 100 else 0)  # Total price with adjustment\n",
    "), orders))\n",
    "\n",
    "# Display the results in a table format\n",
    "print(f\"{'Order Number':<15}{'Book and Author':<50}{'Quantity':<10}{'Total Price (€)':<15}\")\n",
    "print(\"-\" * 90)\n",
    "for order in result:\n",
    "    print(f\"{order[0]:<15}{order[1]:<50}{order[2]:<10}{order[3]:<15.2f}\")\n"
   ]
  }
 ],
 "metadata": {
  "kernelspec": {
   "display_name": "Python 3 (ipykernel)",
   "language": "python",
   "name": "python3"
  },
  "language_info": {
   "codemirror_mode": {
    "name": "ipython",
    "version": 3
   },
   "file_extension": ".py",
   "mimetype": "text/x-python",
   "name": "python",
   "nbconvert_exporter": "python",
   "pygments_lexer": "ipython3",
   "version": "3.12.4"
  }
 },
 "nbformat": 4,
 "nbformat_minor": 5
}
